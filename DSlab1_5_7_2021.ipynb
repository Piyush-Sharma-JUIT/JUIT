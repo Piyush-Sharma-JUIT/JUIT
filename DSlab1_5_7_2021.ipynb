{
  "nbformat": 4,
  "nbformat_minor": 0,
  "metadata": {
    "colab": {
      "name": "DSlab1:5-7-2021.ipynb",
      "provenance": [],
      "authorship_tag": "ABX9TyNGOyc0IJoxpGzeXE4SgLJD",
      "include_colab_link": true
    },
    "kernelspec": {
      "name": "python3",
      "display_name": "Python 3"
    },
    "language_info": {
      "name": "python"
    }
  },
  "cells": [
    {
      "cell_type": "markdown",
      "metadata": {
        "id": "view-in-github",
        "colab_type": "text"
      },
      "source": [
        "<a href=\"https://colab.research.google.com/github/Piyush-Sharma-JUIT/JUIT/blob/master/DSlab1_5_7_2021.ipynb\" target=\"_parent\"><img src=\"https://colab.research.google.com/assets/colab-badge.svg\" alt=\"Open In Colab\"/></a>"
      ]
    },
    {
      "cell_type": "code",
      "metadata": {
        "id": "4JyF0BFSNdSn"
      },
      "source": [
        "pip install simpy "
      ],
      "execution_count": null,
      "outputs": []
    },
    {
      "cell_type": "code",
      "metadata": {
        "id": "Zleksw52OJ8N"
      },
      "source": [
        "import simpy\n",
        "simpy.__version__"
      ],
      "execution_count": null,
      "outputs": []
    },
    {
      "cell_type": "code",
      "metadata": {
        "id": "h0FtWMm-OZS1"
      },
      "source": [
        "import simpy\n",
        "def generator(x):\n",
        "  for i in range(1,x+1):\n",
        "    yield i\n",
        "a = generator(10)\n",
        "print(next(a))\n",
        "print(next(a))\n",
        "print(next(a))\n",
        "print(next(a))\n",
        "print(next(a))\n",
        "print(next(a))\n",
        "print(next(a))\n",
        "print(next(a))\n",
        "print(next(a))\n",
        "print(next(a))"
      ],
      "execution_count": null,
      "outputs": []
    },
    {
      "cell_type": "code",
      "metadata": {
        "id": "bQGvpq7BPQJ-"
      },
      "source": [
        "def reverse(s):\n",
        "  s=s[::-1]\n",
        "  yield s\n",
        "s = input(\"Enter the string :-\")\n",
        "print(\"String reversed is :- \")\n",
        "a = reverse(s)\n",
        "print(next(a))"
      ],
      "execution_count": null,
      "outputs": []
    }
  ]
}